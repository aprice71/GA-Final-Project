{
 "cells": [
  {
   "cell_type": "markdown",
   "metadata": {},
   "source": [
    "Ashanti Price \n",
    "\n",
    "23 March 2020\n",
    "\n",
    "General Assembly - Data Science (Remote)\n",
    "\n",
    "Final Project Proposal\n",
    "\n",
    "Currently, my company has a database with over 4 million records containing prospective clients and their respective organizations. The front end of this database allows our marketing team to search clients in multiple ways, one being by their employing company’s industry or organization type. Our marketing team uses the searches to segment and find customers for our products, services, and most importantly attendees and sponsors for our niche events. Due to the volume of records in the database, organization type coding has not been as effective as possible for the following reasons:\n",
    "\n",
    "- Some organizations are coded incorrectly\n",
    "- Some organizations are not coded at all\n",
    "- The same organization can have conflicting organization type coding \n",
    " \n",
    "With the help of the predictive model to properly assign organization types to existing records, marketing efforts will be more efficient and will result in more success for the business. My goal for this model is to be able to accurately and confidently predict the organization type for existing records and for records that will be imported into the database in the future. The success of the model will be measured by the decrease, stagnation, or increase in the response and/or revenue generated from marketing campaigns using organization type to segment. One of the limitations of this model is that it will be difficult to isolate records where organization type is accurately coded; therefore, training data will be difficult to compile. Additionally, there is only one relevant feature column that will help predict each record’s organization type, which will result in less accurate predictions.\n",
    "\n",
    "As the data project manager, I have complete access to the database that I will be extracting this data from. \n"
   ]
  },
  {
   "cell_type": "code",
   "execution_count": null,
   "metadata": {},
   "outputs": [],
   "source": []
  }
 ],
 "metadata": {
  "kernelspec": {
   "display_name": "Python 3",
   "language": "python",
   "name": "python3"
  },
  "language_info": {
   "codemirror_mode": {
    "name": "ipython",
    "version": 3
   },
   "file_extension": ".py",
   "mimetype": "text/x-python",
   "name": "python",
   "nbconvert_exporter": "python",
   "pygments_lexer": "ipython3",
   "version": "3.7.4"
  }
 },
 "nbformat": 4,
 "nbformat_minor": 2
}
